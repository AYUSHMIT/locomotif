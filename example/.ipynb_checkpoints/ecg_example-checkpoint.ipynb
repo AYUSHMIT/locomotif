{
 "cells": [
  {
   "cell_type": "code",
   "execution_count": 1,
   "id": "fad0350f-b4d5-4302-a6fa-825fa2a0b5c0",
   "metadata": {},
   "outputs": [],
   "source": [
    "import os\n",
    "import numpy as np"
   ]
  },
  {
   "cell_type": "code",
   "execution_count": 2,
   "id": "7d775333-59c7-4546-a1b0-169bce75b794",
   "metadata": {},
   "outputs": [
    {
     "ename": "FileNotFoundError",
     "evalue": "[Errno 2] No such file or directory: './datasets/ecg-heartbeat-av.csv'",
     "output_type": "error",
     "traceback": [
      "\u001b[0;31m---------------------------------------------------------------------------\u001b[0m",
      "\u001b[0;31mFileNotFoundError\u001b[0m                         Traceback (most recent call last)",
      "Input \u001b[0;32mIn [2]\u001b[0m, in \u001b[0;36m<cell line: 2>\u001b[0;34m()\u001b[0m\n\u001b[1;32m      1\u001b[0m path_to_series \u001b[38;5;241m=\u001b[39m os\u001b[38;5;241m.\u001b[39mpath\u001b[38;5;241m.\u001b[39mjoin(\u001b[38;5;124m\"\u001b[39m\u001b[38;5;124m.\u001b[39m\u001b[38;5;124m\"\u001b[39m, \u001b[38;5;124m\"\u001b[39m\u001b[38;5;124mdatasets\u001b[39m\u001b[38;5;124m\"\u001b[39m, \u001b[38;5;124m\"\u001b[39m\u001b[38;5;124mecg-heartbeat-av.csv\u001b[39m\u001b[38;5;124m\"\u001b[39m)\n\u001b[0;32m----> 2\u001b[0m f \u001b[38;5;241m=\u001b[39m \u001b[38;5;28;43mopen\u001b[39;49m\u001b[43m(\u001b[49m\u001b[43mpath_to_series\u001b[49m\u001b[43m)\u001b[49m\n\u001b[1;32m      3\u001b[0m series \u001b[38;5;241m=\u001b[39m np\u001b[38;5;241m.\u001b[39marray(f\u001b[38;5;241m.\u001b[39mreadlines(), dtype\u001b[38;5;241m=\u001b[39mnp\u001b[38;5;241m.\u001b[39mdouble)\n\u001b[1;32m      4\u001b[0m \u001b[38;5;28mprint\u001b[39m(series\u001b[38;5;241m.\u001b[39mshape)\n",
      "\u001b[0;31mFileNotFoundError\u001b[0m: [Errno 2] No such file or directory: './datasets/ecg-heartbeat-av.csv'"
     ]
    }
   ],
   "source": [
    "path_to_series = os.path.join(\".\", \"example\", \"datasets\", \"ecg-heartbeat-av.csv\")\n",
    "f = open(path_to_series)\n",
    "series = np.array(f.readlines(), dtype=np.double)\n",
    "print(series.shape)\n",
    "fs = 128  # sampling frequency"
   ]
  },
  {
   "cell_type": "code",
   "execution_count": null,
   "id": "1f265bd3-4e25-4d4b-8686-d5d1f30910e2",
   "metadata": {},
   "outputs": [],
   "source": [
    "# uncomment this code block for the multivariate ECG example:\n",
    "\n",
    "# path_to_series = os.path.join(\".\", \"demos\", \"datasets\", \"mitdb_patient214.csv\")\n",
    "# f = open(path_to_series)\n",
    "# series = np.array([line.split(',') for line in f.readlines()], dtype=np.double)\n",
    "# print(series.shape)\n",
    "# fs = 360  # sampling frequency"
   ]
  },
  {
   "cell_type": "code",
   "execution_count": null,
   "id": "57a728e3-882c-494a-aa76-a97a2ca7f97b",
   "metadata": {},
   "outputs": [],
   "source": [
    "# z-normalize time series\n",
    "series = (series - np.mean(series, axis=0)) / np.std(series, axis=0)\n",
    "\n",
    "# Parameter rho determines the 'strictness' of the algorithm  \n",
    "#   - higher -> more strict (more similarity in discovered motif sets)\n",
    "#   - lower  -> less strict (less similarity in discovered motif sets) \n",
    "rho = 0.6\n",
    "\n",
    "# Number of motifs to be found\n",
    "nb_motifs = 2\n",
    "\n",
    "# Heartbeats last 0.6s - 1s (equivalent to 60-100 bpm)\n",
    "l_min = int(0.6 * fs)\n",
    "l_max = int(  1 * fs)\n",
    "\n",
    "# This parameter determines how much the motifs may overlap (intra and inter motif set)\n",
    "overlap = 0"
   ]
  },
  {
   "cell_type": "code",
   "execution_count": null,
   "id": "2d1ca1c2-adc6-429d-955a-e032c638b230",
   "metadata": {},
   "outputs": [],
   "source": [
    "import locomotif.locomotif as locomotif\n",
    "motif_sets = locomotif.apply_locomotif(series, rho, l_min, l_max, nb_motifs, overlap=overlap)\n",
    "print(motif_sets)"
   ]
  },
  {
   "cell_type": "code",
   "execution_count": null,
   "id": "6742b8be-c973-4539-b3cf-3a778181d813",
   "metadata": {},
   "outputs": [],
   "source": [
    "import locomotif.visualize as visualize\n",
    "import matplotlib.pyplot as plt\n",
    "fig, ax = visualize.plot_motif_sets(series, motif_sets)\n",
    "plt.savefig('example.png')\n",
    "plt.show()"
   ]
  },
  {
   "cell_type": "markdown",
   "id": "3a415ae4-d972-43bf-b720-b89f4df027f9",
   "metadata": {},
   "source": [
    "### Without Time Warping"
   ]
  },
  {
   "cell_type": "code",
   "execution_count": null,
   "id": "d83c7efd-3ffb-4107-bb43-c5a516172261",
   "metadata": {},
   "outputs": [],
   "source": [
    "motif_sets = locomotif.apply_locomotif(series, rho, l_min, l_max, nb_motifs, overlap=overlap, warping=False)\n",
    "print(motif_sets)"
   ]
  },
  {
   "cell_type": "code",
   "execution_count": null,
   "id": "4ea0f21d-5dbb-4c88-89d3-7f1b933eb405",
   "metadata": {},
   "outputs": [],
   "source": [
    "fig, ax = visualize.plot_motif_sets(series, motif_sets)\n",
    "plt.savefig('example.png')\n",
    "plt.show()"
   ]
  },
  {
   "cell_type": "markdown",
   "id": "26e7ff27-ba1f-44aa-b054-9cef169ecbbd",
   "metadata": {},
   "source": [
    "### Start and End Constraints"
   ]
  },
  {
   "cell_type": "code",
   "execution_count": null,
   "id": "24ca235e-aa61-42b3-bf3d-fc511bd97f69",
   "metadata": {},
   "outputs": [],
   "source": [
    "# start_mask specifies whether a motif can start at a certain time index (same for end_mask)\n",
    "\n",
    "# for example: a candidate segment can only start in the second half of the time series:\n",
    "n = len(series)\n",
    "start_mask = np.full(n, True)\n",
    "start_mask[:n//2] = False"
   ]
  },
  {
   "cell_type": "code",
   "execution_count": null,
   "id": "f7ccd4fe-0749-4194-9af1-4d9e9dd10ec1",
   "metadata": {},
   "outputs": [],
   "source": [
    "motif_sets = locomotif.apply_locomotif(series, rho, l_min, l_max, nb_motifs, overlap=overlap, start_mask=start_mask, end_mask=None)\n",
    "print(motif_sets)"
   ]
  },
  {
   "cell_type": "code",
   "execution_count": null,
   "id": "dfc0e9cc-dbac-4b5f-ad21-13a329fe98a4",
   "metadata": {},
   "outputs": [],
   "source": [
    "fig, ax = visualize.plot_motif_sets(series, motif_sets)\n",
    "plt.savefig('example.png')\n",
    "plt.show()"
   ]
  },
  {
   "cell_type": "code",
   "execution_count": null,
   "id": "355f3457-d963-4062-973f-950b12d3a47e",
   "metadata": {},
   "outputs": [],
   "source": []
  }
 ],
 "metadata": {
  "kernelspec": {
   "display_name": "Python 3 (ipykernel)",
   "language": "python",
   "name": "python3"
  },
  "language_info": {
   "codemirror_mode": {
    "name": "ipython",
    "version": 3
   },
   "file_extension": ".py",
   "mimetype": "text/x-python",
   "name": "python",
   "nbconvert_exporter": "python",
   "pygments_lexer": "ipython3",
   "version": "3.9.12"
  }
 },
 "nbformat": 4,
 "nbformat_minor": 5
}
